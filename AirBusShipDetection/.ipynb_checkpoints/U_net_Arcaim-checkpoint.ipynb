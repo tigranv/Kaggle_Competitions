{
 "cells": [
  {
   "cell_type": "code",
   "execution_count": 1,
   "metadata": {},
   "outputs": [],
   "source": [
    "import random"
   ]
  },
  {
   "cell_type": "code",
   "execution_count": 2,
   "metadata": {},
   "outputs": [],
   "source": [
    "random.seed(0)"
   ]
  },
  {
   "cell_type": "code",
   "execution_count": 1,
   "metadata": {},
   "outputs": [
    {
     "name": "stdout",
     "output_type": "stream",
     "text": [
      "Used memory: 17%\n"
     ]
    }
   ],
   "source": [
    "from pynvml import *\n",
    "nvmlInit()\n",
    "handle = nvmlDeviceGetHandleByIndex(0)\n",
    "info = nvmlDeviceGetMemoryInfo(handle)\n",
    "print(\"Used memory: {0}%\".format(int(100*info.used/info.total)))\n"
   ]
  },
  {
   "cell_type": "code",
   "execution_count": 4,
   "metadata": {},
   "outputs": [],
   "source": [
    "import os\n",
    "import pandas as pd\n",
    "import matplotlib.pyplot as plt\n",
    "import numpy as np\n",
    "from skimage import io\n",
    "from tensorflow.keras.models import Model, load_model\n",
    "from tensorflow.keras.layers import Input\n",
    "from tensorflow.keras.layers import Lambda\n",
    "from tensorflow.keras.layers import Conv2D, Conv2DTranspose\n",
    "from tensorflow.keras.layers import MaxPooling2D\n",
    "from tensorflow.keras.layers import concatenate\n",
    "from tensorflow.keras.callbacks import EarlyStopping, ModelCheckpoint\n",
    "from tensorflow.keras import backend as K\n",
    "import warnings\n",
    "warnings.filterwarnings(\"ignore\")\n",
    "marks = pd.read_csv('D:/Kaggle/train_ship_segmentations.csv') # Markers for ships\n",
    "images = os.listdir('D:/Kaggle/train_images') # Images for training\n",
    "os.chdir(\"D:/Kaggle/train_images\")"
   ]
  },
  {
   "cell_type": "code",
   "execution_count": 5,
   "metadata": {},
   "outputs": [
    {
     "name": "stdout",
     "output_type": "stream",
     "text": [
      "Used memory: 1%\n"
     ]
    }
   ],
   "source": [
    "# from pynvml import *\n",
    "nvmlInit()\n",
    "handle = nvmlDeviceGetHandleByIndex(0)\n",
    "info = nvmlDeviceGetMemoryInfo(handle)\n",
    "print(\"Used memory: {0}%\".format(int(100*info.used/info.total)))\n"
   ]
  },
  {
   "cell_type": "code",
   "execution_count": 6,
   "metadata": {},
   "outputs": [],
   "source": [
    "from sys import getsizeof as size "
   ]
  },
  {
   "cell_type": "code",
   "execution_count": 8,
   "metadata": {},
   "outputs": [],
   "source": [
    "from skimage import io\n",
    "from skimage import measure \n",
    "from skimage import feature\n",
    "from skimage.morphology import disk\n",
    "from skimage.filters import rank\n",
    "from skimage import exposure"
   ]
  },
  {
   "cell_type": "code",
   "execution_count": 9,
   "metadata": {},
   "outputs": [],
   "source": [
    "# test = pd.read_csv('../COMPETITION/test_ship_segmentations.csv')\n",
    "# test_images = os.listdir('../COMPETITION/test_images')"
   ]
  },
  {
   "cell_type": "code",
   "execution_count": 10,
   "metadata": {},
   "outputs": [],
   "source": [
    "# test[\"ImageId\"].unique().shape[0] == len(test_images)\n",
    "# len(test_images)"
   ]
  },
  {
   "cell_type": "code",
   "execution_count": 11,
   "metadata": {},
   "outputs": [],
   "source": [
    "marks['ships'] = marks['EncodedPixels'].map(lambda c_row: 1 if isinstance(c_row, str) else 0)\n",
    "# unique_img_ids = marks.groupby('ImageId').agg({'ships': 'sum'}).reset_index()"
   ]
  },
  {
   "cell_type": "code",
   "execution_count": 12,
   "metadata": {},
   "outputs": [
    {
     "data": {
      "text/html": [
       "<div>\n",
       "<style scoped>\n",
       "    .dataframe tbody tr th:only-of-type {\n",
       "        vertical-align: middle;\n",
       "    }\n",
       "\n",
       "    .dataframe tbody tr th {\n",
       "        vertical-align: top;\n",
       "    }\n",
       "\n",
       "    .dataframe thead th {\n",
       "        text-align: right;\n",
       "    }\n",
       "</style>\n",
       "<table border=\"1\" class=\"dataframe\">\n",
       "  <thead>\n",
       "    <tr style=\"text-align: right;\">\n",
       "      <th></th>\n",
       "      <th>ImageId</th>\n",
       "      <th>EncodedPixels</th>\n",
       "      <th>ships</th>\n",
       "    </tr>\n",
       "  </thead>\n",
       "  <tbody>\n",
       "    <tr>\n",
       "      <th>30205</th>\n",
       "      <td>3b4251e3c.jpg</td>\n",
       "      <td>204044 1 204811 3 205578 6 206346 7 207113 9 2...</td>\n",
       "      <td>1</td>\n",
       "    </tr>\n",
       "    <tr>\n",
       "      <th>30206</th>\n",
       "      <td>3b4251e3c.jpg</td>\n",
       "      <td>271802 2 272568 4 273334 7 274099 10 274865 13...</td>\n",
       "      <td>1</td>\n",
       "    </tr>\n",
       "  </tbody>\n",
       "</table>\n",
       "</div>"
      ],
      "text/plain": [
       "             ImageId                                      EncodedPixels  ships\n",
       "30205  3b4251e3c.jpg  204044 1 204811 3 205578 6 206346 7 207113 9 2...      1\n",
       "30206  3b4251e3c.jpg  271802 2 272568 4 273334 7 274099 10 274865 13...      1"
      ]
     },
     "execution_count": 12,
     "metadata": {},
     "output_type": "execute_result"
    }
   ],
   "source": [
    "marks[marks[\"ImageId\"] == \"3b4251e3c.jpg\"]"
   ]
  },
  {
   "cell_type": "code",
   "execution_count": 13,
   "metadata": {},
   "outputs": [
    {
     "data": {
      "text/html": [
       "<div>\n",
       "<style scoped>\n",
       "    .dataframe tbody tr th:only-of-type {\n",
       "        vertical-align: middle;\n",
       "    }\n",
       "\n",
       "    .dataframe tbody tr th {\n",
       "        vertical-align: top;\n",
       "    }\n",
       "\n",
       "    .dataframe thead th {\n",
       "        text-align: right;\n",
       "    }\n",
       "</style>\n",
       "<table border=\"1\" class=\"dataframe\">\n",
       "  <thead>\n",
       "    <tr style=\"text-align: right;\">\n",
       "      <th></th>\n",
       "      <th>ImageId</th>\n",
       "      <th>EncodedPixels</th>\n",
       "      <th>ships</th>\n",
       "    </tr>\n",
       "  </thead>\n",
       "  <tbody>\n",
       "    <tr>\n",
       "      <th>0</th>\n",
       "      <td>00003e153.jpg</td>\n",
       "      <td>NaN</td>\n",
       "      <td>0</td>\n",
       "    </tr>\n",
       "    <tr>\n",
       "      <th>1</th>\n",
       "      <td>000155de5.jpg</td>\n",
       "      <td>264661 17 265429 33 266197 33 266965 33 267733...</td>\n",
       "      <td>1</td>\n",
       "    </tr>\n",
       "    <tr>\n",
       "      <th>2</th>\n",
       "      <td>00021ddc3.jpg</td>\n",
       "      <td>101361 1 102128 3 102896 4 103663 6 104430 9 1...</td>\n",
       "      <td>1</td>\n",
       "    </tr>\n",
       "    <tr>\n",
       "      <th>3</th>\n",
       "      <td>00021ddc3.jpg</td>\n",
       "      <td>95225 2 95992 5 96760 7 97527 9 98294 9 99062 ...</td>\n",
       "      <td>1</td>\n",
       "    </tr>\n",
       "    <tr>\n",
       "      <th>4</th>\n",
       "      <td>00021ddc3.jpg</td>\n",
       "      <td>74444 4 75212 4 75980 4 76748 4 77517 3 78285 ...</td>\n",
       "      <td>1</td>\n",
       "    </tr>\n",
       "  </tbody>\n",
       "</table>\n",
       "</div>"
      ],
      "text/plain": [
       "         ImageId                                      EncodedPixels  ships\n",
       "0  00003e153.jpg                                                NaN      0\n",
       "1  000155de5.jpg  264661 17 265429 33 266197 33 266965 33 267733...      1\n",
       "2  00021ddc3.jpg  101361 1 102128 3 102896 4 103663 6 104430 9 1...      1\n",
       "3  00021ddc3.jpg  95225 2 95992 5 96760 7 97527 9 98294 9 99062 ...      1\n",
       "4  00021ddc3.jpg  74444 4 75212 4 75980 4 76748 4 77517 3 78285 ...      1"
      ]
     },
     "execution_count": 13,
     "metadata": {},
     "output_type": "execute_result"
    }
   ],
   "source": [
    "marks.head()"
   ]
  },
  {
   "cell_type": "code",
   "execution_count": 14,
   "metadata": {},
   "outputs": [],
   "source": [
    "train_data = marks[marks[\"ships\"]!=0]\n",
    "train_ids = list(train_data[\"ImageId\"])\n",
    "no_ships_train = list(set(images) & set(train_ids))\n",
    "train_images_ids = list(set(no_ships_train) & set(images))"
   ]
  },
  {
   "cell_type": "code",
   "execution_count": 15,
   "metadata": {},
   "outputs": [
    {
     "data": {
      "text/plain": [
       "(56030, 3)"
      ]
     },
     "execution_count": 15,
     "metadata": {},
     "output_type": "execute_result"
    }
   ],
   "source": [
    "train_data.shape"
   ]
  },
  {
   "cell_type": "code",
   "execution_count": 16,
   "metadata": {},
   "outputs": [],
   "source": [
    "def Equalizer(file):\n",
    "    '''\n",
    "    Equalizes image spectrum (in gray scale)\n",
    "    '''\n",
    "    img = io.imread(file, as_grey=True)\n",
    "    selem = disk(100)\n",
    "    img_eq = rank.equalize(img, selem=selem)\n",
    "    return img_eq"
   ]
  },
  {
   "cell_type": "code",
   "execution_count": 17,
   "metadata": {},
   "outputs": [],
   "source": [
    "def mask_part(pic):\n",
    "    '''\n",
    "    Function that encodes mask for single ship from .csv entry into numpy matrix\n",
    "    '''\n",
    "    back = np.zeros(768**2)\n",
    "    starts = pic.split()[0::2]\n",
    "    lens = pic.split()[1::2]\n",
    "    for i in range(len(lens)):\n",
    "        back[(int(starts[i])-1):(int(starts[i])-1+int(lens[i]))] = 1\n",
    "    return np.reshape(back, (768, 768, 1))\n",
    "\n",
    "def is_empty(key):\n",
    "    '''\n",
    "    Function that checks if there is a ship in image\n",
    "    '''\n",
    "    df = marks[marks['ImageId'] == key].iloc[:,1]\n",
    "    if len(df) == 1 and type(df.iloc[0]) != str and np.isnan(df.iloc[0]):\n",
    "        return True\n",
    "    else:\n",
    "        return False\n",
    "    \n",
    "def masks_all(key):\n",
    "    '''\n",
    "    Merges together all the ship markers corresponding to a single image\n",
    "    '''\n",
    "    df = marks[marks['ImageId'] == key].iloc[:,1]\n",
    "    masks= np.zeros((768,768,1))\n",
    "    if is_empty(key):\n",
    "        return masks\n",
    "    else:\n",
    "        for i in range(len(df)):\n",
    "            masks += mask_part(df.iloc[i])\n",
    "        return np.transpose(masks, (1,0,2))"
   ]
  },
  {
   "cell_type": "code",
   "execution_count": 18,
   "metadata": {},
   "outputs": [],
   "source": [
    "def transform(X, Y):\n",
    "    '''\n",
    "    Function for augmenting images. \n",
    "    It takes original image and corresponding mask and performs the\n",
    "    same flipping and rotation transforamtions on both in order to \n",
    "    perserve the overlapping of ships and their masks\n",
    "    '''\n",
    "# add noise:\n",
    "    \n",
    "    x = np.copy(X)\n",
    "    y = np.copy(Y)\n",
    "\n",
    "    x[:,:,0] = x[:,:,0] + np.random.normal(loc=0.0, scale=0.01, size=(768,768))\n",
    "    x[:,:,1] = x[:,:,1] + np.random.normal(loc=0.0, scale=0.01, size=(768,768))\n",
    "    x[:,:,2] = x[:,:,2] + np.random.normal(loc=0.0, scale=0.01, size=(768,768))\n",
    "    # Adding Gaussian noise on each rgb channel; this way we will NEVER get two completely same images.\n",
    "    # Note that this transformation is not performed on Y \n",
    "    x[np.where(x<0)] = 0\n",
    "    x[np.where(x>1)] = 1\n",
    "# axes swap:\n",
    "    if np.random.rand()<0.5: # 0.5 chances for this transformation to occur (same for two below)\n",
    "        x = np.swapaxes(x, 0,1)\n",
    "        y = np.swapaxes(y, 0,1)\n",
    "# vertical flip:\n",
    "    if np.random.rand()<0.5:\n",
    "        x = np.flip(x, 0)\n",
    "        y = np.flip(y, 0)\n",
    "# horizontal flip:\n",
    "    if np.random.rand()<0.5:\n",
    "        x = np.flip(x, 1)\n",
    "        y = np.flip(y, 1)\n",
    "    return x, y  "
   ]
  },
  {
   "cell_type": "code",
   "execution_count": 19,
   "metadata": {},
   "outputs": [],
   "source": [
    "def ship_gen(files):\n",
    "    \n",
    "    for id in files:\n",
    "        yield id"
   ]
  },
  {
   "cell_type": "code",
   "execution_count": 20,
   "metadata": {},
   "outputs": [],
   "source": [
    "def make_batch(files, batch_size):\n",
    "    '''\n",
    "    Creates batches of images and masks in order to feed them to NN\n",
    "    '''\n",
    "    X = np.zeros((batch_size, 768, 768, 3))\n",
    "    Y = np.zeros((batch_size, 768, 768, 1)) # I add 1 here to get 4D batch\n",
    "    for i in range(batch_size):\n",
    "#         gen = ship_gen(files)\n",
    "#         ship = next(gen)\n",
    "        \n",
    "        ship = np.random.choice(files)\n",
    "#         print(ship)\n",
    "        X[i] = (io.imread(ship))/255.0 # Original images are in 0-255 range, I want it in 0-1\n",
    "        Y[i]= masks_all(ship)\n",
    "    return X, Y"
   ]
  },
  {
   "cell_type": "code",
   "execution_count": 21,
   "metadata": {},
   "outputs": [],
   "source": [
    "def Generator(files, batch_size):\n",
    "    '''\n",
    "    Generates batches of images and corresponding masks\n",
    "    '''\n",
    "    nvmlInit()\n",
    "    handle = nvmlDeviceGetHandleByIndex(0)\n",
    "    info = nvmlDeviceGetMemoryInfo(handle)\n",
    "    print(\"Used memory: {0}%\".format(int(100*info.used/info.total)))\n",
    "    while True:\n",
    "        X, Y = make_batch(files, batch_size)\n",
    "#         for i in range(batch_size):\n",
    "#             X[i], Y[i] = transform(X[i], Y[i])\n",
    "        yield X, Y"
   ]
  },
  {
   "cell_type": "code",
   "execution_count": 22,
   "metadata": {},
   "outputs": [],
   "source": [
    "# Intersection over Union for Objects\n",
    "def IoU(y_true, y_pred, tresh=1e-10):\n",
    "    Intersection = K.sum(y_true * y_pred, axis=[1,2,3])\n",
    "    Union = K.sum(y_true, axis=[1,2,3]) + K.sum(y_pred, axis=[1,2,3]) - Intersection\n",
    "    return K.mean( (Intersection + tresh) / (Union + tresh), axis=0)\n",
    "# Intersection over Union for Background\n",
    "def back_IoU(y_true, y_pred):\n",
    "    return IoU(1-y_true, 1-y_pred)\n",
    "# Loss function\n",
    "def IoU_loss(in_gt, in_pred):\n",
    "    \n",
    "    #return 2 - back_IoU(in_gt, in_pred) - IoU(in_gt, in_pred)\n",
    "    return 1 - IoU(in_gt, in_pred)"
   ]
  },
  {
   "cell_type": "code",
   "execution_count": 23,
   "metadata": {
    "scrolled": true
   },
   "outputs": [
    {
     "name": "stdout",
     "output_type": "stream",
     "text": [
      "__________________________________________________________________________________________________\n",
      "Layer (type)                    Output Shape         Param #     Connected to                     \n",
      "==================================================================================================\n",
      "input_1 (InputLayer)            (None, 768, 768, 3)  0                                            \n",
      "__________________________________________________________________________________________________\n",
      "conv2d (Conv2D)                 (None, 768, 768, 8)  224         input_1[0][0]                    \n",
      "__________________________________________________________________________________________________\n",
      "conv2d_1 (Conv2D)               (None, 768, 768, 8)  584         conv2d[0][0]                     \n",
      "__________________________________________________________________________________________________\n",
      "max_pooling2d (MaxPooling2D)    (None, 384, 384, 8)  0           conv2d_1[0][0]                   \n",
      "__________________________________________________________________________________________________\n",
      "conv2d_2 (Conv2D)               (None, 384, 384, 16) 1168        max_pooling2d[0][0]              \n",
      "__________________________________________________________________________________________________\n",
      "conv2d_3 (Conv2D)               (None, 384, 384, 16) 2320        conv2d_2[0][0]                   \n",
      "__________________________________________________________________________________________________\n",
      "max_pooling2d_1 (MaxPooling2D)  (None, 192, 192, 16) 0           conv2d_3[0][0]                   \n",
      "__________________________________________________________________________________________________\n",
      "conv2d_4 (Conv2D)               (None, 192, 192, 32) 4640        max_pooling2d_1[0][0]            \n",
      "__________________________________________________________________________________________________\n",
      "conv2d_5 (Conv2D)               (None, 192, 192, 32) 9248        conv2d_4[0][0]                   \n",
      "__________________________________________________________________________________________________\n",
      "max_pooling2d_2 (MaxPooling2D)  (None, 96, 96, 32)   0           conv2d_5[0][0]                   \n",
      "__________________________________________________________________________________________________\n",
      "conv2d_6 (Conv2D)               (None, 96, 96, 64)   18496       max_pooling2d_2[0][0]            \n",
      "__________________________________________________________________________________________________\n",
      "conv2d_7 (Conv2D)               (None, 96, 96, 64)   36928       conv2d_6[0][0]                   \n",
      "__________________________________________________________________________________________________\n",
      "conv2d_transpose (Conv2DTranspo (None, 192, 192, 32) 8224        conv2d_7[0][0]                   \n",
      "__________________________________________________________________________________________________\n",
      "concatenate (Concatenate)       (None, 192, 192, 64) 0           conv2d_transpose[0][0]           \n",
      "                                                                 conv2d_5[0][0]                   \n",
      "__________________________________________________________________________________________________\n",
      "conv2d_8 (Conv2D)               (None, 192, 192, 32) 18464       concatenate[0][0]                \n",
      "__________________________________________________________________________________________________\n",
      "conv2d_9 (Conv2D)               (None, 192, 192, 32) 9248        conv2d_8[0][0]                   \n",
      "__________________________________________________________________________________________________\n",
      "conv2d_transpose_1 (Conv2DTrans (None, 384, 384, 16) 2064        conv2d_9[0][0]                   \n",
      "__________________________________________________________________________________________________\n",
      "concatenate_1 (Concatenate)     (None, 384, 384, 32) 0           conv2d_transpose_1[0][0]         \n",
      "                                                                 conv2d_3[0][0]                   \n",
      "__________________________________________________________________________________________________\n",
      "conv2d_10 (Conv2D)              (None, 384, 384, 16) 4624        concatenate_1[0][0]              \n",
      "__________________________________________________________________________________________________\n",
      "conv2d_11 (Conv2D)              (None, 384, 384, 16) 2320        conv2d_10[0][0]                  \n",
      "__________________________________________________________________________________________________\n",
      "conv2d_transpose_2 (Conv2DTrans (None, 768, 768, 8)  520         conv2d_11[0][0]                  \n",
      "__________________________________________________________________________________________________\n",
      "concatenate_2 (Concatenate)     (None, 768, 768, 16) 0           conv2d_transpose_2[0][0]         \n",
      "                                                                 conv2d_1[0][0]                   \n",
      "__________________________________________________________________________________________________\n",
      "conv2d_12 (Conv2D)              (None, 768, 768, 8)  1160        concatenate_2[0][0]              \n",
      "__________________________________________________________________________________________________\n",
      "conv2d_13 (Conv2D)              (None, 768, 768, 8)  584         conv2d_12[0][0]                  \n",
      "__________________________________________________________________________________________________\n",
      "conv2d_14 (Conv2D)              (None, 768, 768, 1)  9           conv2d_13[0][0]                  \n",
      "==================================================================================================\n",
      "Total params: 120,825\n",
      "Trainable params: 120,825\n",
      "Non-trainable params: 0\n",
      "__________________________________________________________________________________________________\n"
     ]
    }
   ],
   "source": [
    "inputs = Input((768, 768, 3))\n",
    "\n",
    "c1 = Conv2D(8, (3, 3), activation='relu', padding='same') (inputs)\n",
    "c1 = Conv2D(8, (3, 3), activation='relu', padding='same') (c1)\n",
    "p1 = MaxPooling2D((2, 2)) (c1)\n",
    "\n",
    "c2 = Conv2D(16, (3, 3), activation='relu', padding='same') (p1)\n",
    "c2 = Conv2D(16, (3, 3), activation='relu', padding='same') (c2)\n",
    "p2 = MaxPooling2D((2, 2)) (c2)\n",
    "\n",
    "c3 = Conv2D(32, (3, 3), activation='relu', padding='same') (p2)\n",
    "c3 = Conv2D(32, (3, 3), activation='relu', padding='same') (c3)\n",
    "p3 = MaxPooling2D((2, 2)) (c3)\n",
    "\n",
    "c4 = Conv2D(64, (3, 3), activation='relu', padding='same') (p3)\n",
    "c4 = Conv2D(64, (3, 3), activation='relu', padding='same') (c4)\n",
    "\n",
    "u5 = Conv2DTranspose(32, (2, 2), strides=(2, 2), padding='same') (c4)\n",
    "u5 = concatenate([u5, c3])\n",
    "c5 = Conv2D(32, (3, 3), activation='relu', padding='same') (u5)\n",
    "c5 = Conv2D(32, (3, 3), activation='relu', padding='same') (c5)\n",
    "\n",
    "u6 = Conv2DTranspose(16, (2, 2), strides=(2, 2), padding='same') (c5)\n",
    "u6 = concatenate([u6, c2])\n",
    "c6 = Conv2D(16, (3, 3), activation='relu', padding='same') (u6)\n",
    "c6 = Conv2D(16, (3, 3), activation='relu', padding='same') (c6)\n",
    "\n",
    "u7 = Conv2DTranspose(8, (2, 2), strides=(2, 2), padding='same') (c6)\n",
    "u7 = concatenate([u7, c1], axis=3)\n",
    "c7 = Conv2D(8, (3, 3), activation='relu', padding='same') (u7)\n",
    "c7 = Conv2D(8, (3, 3), activation='relu', padding='same') (c7)\n",
    "\n",
    "outputs = Conv2D(1, (1, 1), activation='sigmoid') (c7)\n",
    "\n",
    "model = Model(inputs=[inputs], outputs=[outputs])\n",
    "model.compile(optimizer='adam', loss= IoU_loss, metrics=[IoU, back_IoU])\n",
    "model.summary()"
   ]
  },
  {
   "cell_type": "code",
   "execution_count": 24,
   "metadata": {},
   "outputs": [
    {
     "data": {
      "text/plain": [
       "14"
      ]
     },
     "execution_count": 24,
     "metadata": {},
     "output_type": "execute_result"
    }
   ],
   "source": [
    "import gc; gc.enable()\n",
    "gc.collect()"
   ]
  },
  {
   "cell_type": "code",
   "execution_count": 25,
   "metadata": {},
   "outputs": [
    {
     "data": {
      "text/plain": [
       "100"
      ]
     },
     "execution_count": 25,
     "metadata": {},
     "output_type": "execute_result"
    }
   ],
   "source": [
    "train_part = train_images_ids[:100]\n",
    "len(train_part)"
   ]
  },
  {
   "cell_type": "code",
   "execution_count": 26,
   "metadata": {},
   "outputs": [
    {
     "name": "stdout",
     "output_type": "stream",
     "text": [
      "18677\n"
     ]
    }
   ],
   "source": [
    "batch_size = 3\n",
    "steps_per_epoch = int(train_data.shape[0]/(batch_size))+1\n",
    "epochs = 10\n",
    "print(steps_per_epoch)"
   ]
  },
  {
   "cell_type": "code",
   "execution_count": null,
   "metadata": {},
   "outputs": [],
   "source": [
    "model.load_weights('Unet_batch3_epoch_2_1.h5')"
   ]
  },
  {
   "cell_type": "code",
   "execution_count": null,
   "metadata": {
    "scrolled": false
   },
   "outputs": [
    {
     "name": "stdout",
     "output_type": "stream",
     "text": [
      "Epoch 1/10\n",
      "Used memory: 1%\n",
      "18677/18677 [==============================] - 8083s 433ms/step - loss: 0.9904 - IoU: 0.0096 - back_IoU: 0.0195\n",
      "Epoch 2/10\n",
      "18677/18677 [==============================] - 5857s 314ms/step - loss: 0.9964 - IoU: 0.0036 - back_IoU: 0.3618\n",
      "Epoch 3/10\n",
      "18677/18677 [==============================] - 5540s 297ms/step - loss: 1.0000 - IoU: 4.1793e-13 - back_IoU: 0.9949\n",
      "Epoch 4/10\n",
      "18677/18677 [==============================] - 5496s 294ms/step - loss: 1.0000 - IoU: 4.2498e-13 - back_IoU: 0.9949\n",
      "Epoch 5/10\n",
      "18677/18677 [==============================] - 5471s 293ms/step - loss: 1.0000 - IoU: 4.1631e-13 - back_IoU: 0.9949\n",
      "Epoch 6/10\n",
      "18677/18677 [==============================] - 5521s 296ms/step - loss: 1.0000 - IoU: 4.2306e-13 - back_IoU: 0.9949\n",
      "Epoch 7/10\n",
      "18677/18677 [==============================] - 5538s 297ms/step - loss: 1.0000 - IoU: 4.2586e-13 - back_IoU: 0.9949\n",
      "Epoch 8/10\n",
      "18071/18677 [============================>.] - ETA: 3:23 - loss: 1.0000 - IoU: 4.1724e-13 - back_IoU: 0.9949"
     ]
    }
   ],
   "source": [
    "results = model.fit_generator(Generator(train_images_ids, batch_size = 3), steps_per_epoch = steps_per_epoch, epochs = 10)"
   ]
  },
  {
   "cell_type": "code",
   "execution_count": null,
   "metadata": {},
   "outputs": [],
   "source": [
    "K.clear_session()"
   ]
  },
  {
   "cell_type": "code",
   "execution_count": null,
   "metadata": {},
   "outputs": [],
   "source": [
    "model.save_weights('Unet_batch3_epoch_2_1.h5')"
   ]
  },
  {
   "cell_type": "code",
   "execution_count": null,
   "metadata": {},
   "outputs": [],
   "source": [
    "os.chdir(\"../saved_models/\")"
   ]
  },
  {
   "cell_type": "code",
   "execution_count": null,
   "metadata": {},
   "outputs": [],
   "source": [
    "def Pred_Gen(images_data):\n",
    "  \n",
    "    for i in range(len(images_data)):\n",
    "        yield io.imread(images_data[i]).reshape(1,768,768,3)"
   ]
  },
  {
   "cell_type": "code",
   "execution_count": null,
   "metadata": {},
   "outputs": [],
   "source": [
    "g = triangleNums()\n"
   ]
  },
  {
   "cell_type": "code",
   "execution_count": null,
   "metadata": {},
   "outputs": [],
   "source": [
    "print(d)"
   ]
  },
  {
   "cell_type": "code",
   "execution_count": null,
   "metadata": {},
   "outputs": [],
   "source": [
    "os.chdir(\"../test_images/\")\n",
    "test_images = os.listdir('D:/Kaggle/test_images') "
   ]
  },
  {
   "cell_type": "code",
   "execution_count": null,
   "metadata": {},
   "outputs": [],
   "source": [
    "test_1_part = test_images[:10]"
   ]
  },
  {
   "cell_type": "code",
   "execution_count": null,
   "metadata": {},
   "outputs": [],
   "source": [
    "g = Pred_Gen(test_1_part)\n"
   ]
  },
  {
   "cell_type": "code",
   "execution_count": null,
   "metadata": {},
   "outputs": [],
   "source": [
    "X = np.zeros((10,768,768,3))\n",
    "for i in range(10):\n",
    "    X[i] = next(g) "
   ]
  },
  {
   "cell_type": "code",
   "execution_count": null,
   "metadata": {},
   "outputs": [],
   "source": [
    "res_1part = model.predict_generator(Pred_Gen(test_1_part),steps=len(test_1_part), workers=5)"
   ]
  },
  {
   "cell_type": "code",
   "execution_count": null,
   "metadata": {},
   "outputs": [],
   "source": [
    "import gc; gc.enable()\n",
    "gc.collect()"
   ]
  },
  {
   "cell_type": "code",
   "execution_count": null,
   "metadata": {},
   "outputs": [],
   "source": []
  },
  {
   "cell_type": "code",
   "execution_count": null,
   "metadata": {},
   "outputs": [],
   "source": [
    "def rle_decode(mask_rle, shape=(768, 768)):\n",
    "    '''\n",
    "    mask_rle: run-length as string formated (start length)\n",
    "    shape: (height,width) of array to return \n",
    "    Returns numpy array, 1 - mask, 0 - background\n",
    "    '''\n",
    "    s = mask_rle.split()\n",
    "    starts, lengths = [np.asarray(x, dtype=int) for x in (s[0:][::2], s[1:][::2])]\n",
    "    starts -= 1\n",
    "    ends = starts + lengths\n",
    "    img = np.zeros(shape[0]*shape[1], dtype=np.uint8)\n",
    "    for lo, hi in zip(starts, ends):\n",
    "        img[lo:hi] = 1\n",
    "    return img.reshape(shape).T  # Needed to align to RLE direction"
   ]
  },
  {
   "cell_type": "code",
   "execution_count": null,
   "metadata": {},
   "outputs": [],
   "source": []
  },
  {
   "cell_type": "code",
   "execution_count": null,
   "metadata": {},
   "outputs": [],
   "source": []
  }
 ],
 "metadata": {
  "kernelspec": {
   "display_name": "Python 3",
   "language": "python",
   "name": "python3"
  },
  "language_info": {
   "codemirror_mode": {
    "name": "ipython",
    "version": 3
   },
   "file_extension": ".py",
   "mimetype": "text/x-python",
   "name": "python",
   "nbconvert_exporter": "python",
   "pygments_lexer": "ipython3",
   "version": "3.5.2"
  }
 },
 "nbformat": 4,
 "nbformat_minor": 2
}
